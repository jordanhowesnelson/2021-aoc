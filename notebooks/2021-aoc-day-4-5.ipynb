{
 "cells": [
  {
   "cell_type": "code",
   "execution_count": 1,
   "metadata": {},
   "outputs": [],
   "source": [
    "import numpy as np\n",
    "\n",
    "\n",
    "def read_data(day, kind):\n",
    "    path = f'../data/{kind}-day{day}.txt'\n",
    "    with open(path) as f:\n",
    "        data = f.read().splitlines()\n",
    "    return data"
   ]
  },
  {
   "cell_type": "markdown",
   "metadata": {},
   "source": [
    "# Day 4"
   ]
  },
  {
   "cell_type": "code",
   "execution_count": 338,
   "metadata": {},
   "outputs": [],
   "source": [
    "\n",
    "\n",
    "data = read_data(4, 'data')\n",
    "test = read_data(4, 'test')\n",
    "\n",
    "def get_card_input(card_list):  \n",
    "    '''given list of 5 num str returns subdivided cards  '''\n",
    "    n = len(card_list)\n",
    "    card_input = []\n",
    "    for card in np.arange(0, n, 5):\n",
    "        card_input.append(card_list[card:card+5])\n",
    "    return card_input \n",
    "\n",
    "def create_input(data):\n",
    "    calls = data[0].split(',')\n",
    "    card_list = [x.strip().split() for x in data[1:] if x != '']\n",
    "    card_input = get_card_input(card_list)\n",
    "    return card_input, calls\n",
    "\n",
    "    \n",
    "cards_in, calls_in = create_input(data)\n",
    "test_cards_in, test_calls_in = create_input(test)\n"
   ]
  },
  {
   "cell_type": "code",
   "execution_count": 611,
   "metadata": {},
   "outputs": [],
   "source": [
    "#call a number \n",
    "\n",
    "#play bingo\n",
    "\n",
    "#id the winner\n",
    "\n",
    "#class to track a card\n",
    "\n",
    "class Card:\n",
    "    def __init__(self, card_input):\n",
    "        self.input = card_input\n",
    "        self.calls = []\n",
    "        self.valid_calls = []\n",
    "        self.marked_locations = []\n",
    "        self.win = False\n",
    "        self.process_card()\n",
    "        \n",
    "    def process_card(self):\n",
    "        '''numbers each space 1-25, dict includes val and \n",
    "        marked/un'''\n",
    "        nums = sum(self.input, [])\n",
    "        self.num_list = nums\n",
    "        self.card_dict = dict(enumerate(nums, 1))\n",
    "        self.num_dict = {v:k for k, v in self.card_dict.items()}\n",
    "        self.marked_dict = {k:0 for k, v in self.card_dict.items()}\n",
    "    \n",
    "    def mark_space(self, numStr):\n",
    "        '''marks space as being called/not, \n",
    "        first checks a dict of numbers keys \n",
    "        for its its included at all\n",
    "        \n",
    "        second look up its spot\n",
    "        \n",
    "        third go to the ground truth dict and update it\n",
    "        \n",
    "        '''\n",
    "        self.calls.append(numStr)\n",
    "        try:\n",
    "            location = self.num_dict[numStr]\n",
    "            self.valid_calls.append(numStr)\n",
    "            self.marked_locations.append(location)\n",
    "        except:\n",
    "            return\n",
    "            \n",
    "    \n",
    "    def check_for_marks(self, check_type):\n",
    "        '''checks rows for a win; \n",
    "        \n",
    "        Look through relevant numbers in the dict; \n",
    "        see if its marked.\n",
    "        '''\n",
    "        check_dict = {'rows': {'start_cols' : np.arange(1, 26, 5),\n",
    "                               'overlap_cols' : lambda num: np.arange(num, \n",
    "                                                          num+5, 1)\n",
    "                               \n",
    "                              },\n",
    "                      'cols': {'start_cols' : np.arange(1, 6, 1),\n",
    "                               'overlap_cols' : lambda num: np.arange(num, \n",
    "                                                          26, 5)\n",
    "                               \n",
    "                              }\n",
    "                     }\n",
    "        \n",
    "        start = check_dict[check_type]['start_cols']\n",
    "        overlap = check_dict[check_type]['overlap_cols']\n",
    "        \n",
    "        \n",
    "        remainders = [x for x in start\n",
    "                      if x in self.marked_locations]\n",
    "        \n",
    "        if remainders == []:\n",
    "            return\n",
    "        \n",
    "        \n",
    "        for num in remainders:\n",
    "            overlap_list = [x for x in self.marked_locations\n",
    "                       if x in overlap(num)]\n",
    "\n",
    "            if len(overlap_list) == 5:\n",
    "                return True\n",
    "        return False\n",
    "    \n",
    "    def check_for_win(self):\n",
    "        '''checks rows and columns after marking_space\n",
    "        and returns whether card has won\n",
    "        '''\n",
    "        if len(self.marked_locations) < 5:\n",
    "            return False\n",
    "        \n",
    "        if self.check_for_marks('cols'):\n",
    "            return True\n",
    "        elif self.check_for_marks('rows'):\n",
    "            return True\n",
    "        else:\n",
    "            return False\n",
    "        \n",
    "    def get_score(self, numStr):\n",
    "        unmarked = [int(x) for x in self.num_list \n",
    "            if x not in self.valid_calls]\n",
    "#         print(unmarked)\n",
    "#         print(numStr)\n",
    "        self.score = sum(unmarked) * int(numStr) \n",
    "        return\n",
    "\n",
    "    def get_call(self, numStr):\n",
    "        if self.win:\n",
    "            return\n",
    "        else:\n",
    "            self.mark_space(numStr)\n",
    "            self.win = self.check_for_win()\n",
    "            self.get_score(numStr)\n",
    "            return self.win\n"
   ]
  },
  {
   "cell_type": "code",
   "execution_count": 608,
   "metadata": {},
   "outputs": [],
   "source": [
    "def play_bingo(cards_list, calls, stop=1):\n",
    "\n",
    "    #set up all the cards, iter through list to create dict of cards\n",
    "    cards = []\n",
    "    win_cards = []\n",
    "    for card_nums in cards_list:\n",
    "        cards.append(Card(card_nums))\n",
    "    \n",
    "    #call number, expects list of strs\n",
    "    for c in calls:\n",
    "        for x in cards:\n",
    "            if x.get_call(c):\n",
    "                win_cards.append((x, x.score))\n",
    "                if len(win_cards) == stop:\n",
    "                    lose = [x for x in cards \n",
    "                            if x not in \n",
    "                            [y[0] for y in win_cards]]\n",
    "                    return win_cards, lose\n",
    "                \n"
   ]
  },
  {
   "cell_type": "code",
   "execution_count": 612,
   "metadata": {},
   "outputs": [
    {
     "data": {
      "text/plain": [
       "4512"
      ]
     },
     "execution_count": 612,
     "metadata": {},
     "output_type": "execute_result"
    }
   ],
   "source": [
    "win, lose = play_bingo(test_cards_in, test_calls_in)\n",
    "win[-1][1]"
   ]
  },
  {
   "cell_type": "code",
   "execution_count": 613,
   "metadata": {},
   "outputs": [
    {
     "data": {
      "text/plain": [
       "55770"
      ]
     },
     "execution_count": 613,
     "metadata": {},
     "output_type": "execute_result"
    }
   ],
   "source": [
    "win, lose = play_bingo(cards_in, calls_in)\n",
    "win[-1][1]"
   ]
  },
  {
   "cell_type": "code",
   "execution_count": 609,
   "metadata": {},
   "outputs": [
    {
     "data": {
      "text/plain": [
       "1924"
      ]
     },
     "execution_count": 609,
     "metadata": {},
     "output_type": "execute_result"
    }
   ],
   "source": [
    "n = len(test_cards_in)\n",
    "win, lose = play_bingo(test_cards_in, test_calls_in, n)\n",
    "win[-1][1]"
   ]
  },
  {
   "cell_type": "code",
   "execution_count": 610,
   "metadata": {},
   "outputs": [
    {
     "data": {
      "text/plain": [
       "2980"
      ]
     },
     "execution_count": 610,
     "metadata": {},
     "output_type": "execute_result"
    }
   ],
   "source": [
    "n = len(cards_in)\n",
    "win, lose = play_bingo(cards_in, calls_in, n)\n",
    "win[-1][1]"
   ]
  },
  {
   "cell_type": "markdown",
   "metadata": {},
   "source": [
    "# Day 5"
   ]
  },
  {
   "cell_type": "code",
   "execution_count": 2,
   "metadata": {},
   "outputs": [],
   "source": [
    "test = read_data(5, 'test')\n",
    "data = read_data(5, 'data')"
   ]
  },
  {
   "cell_type": "code",
   "execution_count": 3,
   "metadata": {},
   "outputs": [],
   "source": [
    "def get_pairs(data):\n",
    "    '''returns 2 by2 np array for each xy pairs'''\n",
    "    s_data = [[x.split(',') for x in (x.split(' -> '))] for x in data]\n",
    "    arr = np.array(s_data, dtype=int)\n",
    "    return [(x[0], x[1]) if x[0][0] < x[1][0] else (x[1], x[0]) for x in arr]\n",
    "\n",
    "input_data = get_pairs(test)"
   ]
  },
  {
   "cell_type": "code",
   "execution_count": 4,
   "metadata": {},
   "outputs": [],
   "source": [
    "#[(x[0], x[1]) if x[0][0] < x[1][0] else (x[1], x[0]) for x in input_data]"
   ]
  },
  {
   "cell_type": "code",
   "execution_count": 5,
   "metadata": {},
   "outputs": [],
   "source": [
    "def remove_diags(input_data):\n",
    "    return [x for x in input_data if (x[0][0] == x[1][0]) | (x[0][1] == x[1][1])]"
   ]
  },
  {
   "cell_type": "code",
   "execution_count": 40,
   "metadata": {},
   "outputs": [],
   "source": [
    "def get_interpolations(pairs):\n",
    "    '''given array of 2 pairs of coords, \n",
    "    returns a list of tuples with all interpolated points\n",
    "    '''\n",
    "    xp = [x[0] for x in pairs]\n",
    "    yp = [x[1] for x in pairs]\n",
    "\n",
    "    if np.diff(xp) == 0:\n",
    "        yp = sorted(yp)\n",
    "        interp_for = np.arange(yp[0], yp[1]+1, 1, float)\n",
    "        return list(zip(np.ones(len(interp_for))*xp[0], interp_for))\n",
    "        \n",
    "    interp_for = np.arange(xp[0], xp[1]+1, 1, dtype=float)\n",
    "    \n",
    "    out = np.interp(interp_for, xp, yp)\n",
    "    \n",
    "    return list(zip(interp_for, out))\n",
    "\n",
    "def get_all_points(input_data):\n",
    "    #points_list = []\n",
    "    p_dict = {}\n",
    "    for pair in input_data:\n",
    "        #points_list= (get_interpolations(pair))\n",
    "        #print(len(points_list))\n",
    "        for point in get_interpolations(pair):\n",
    "            try:\n",
    "                p_dict[point] += 1\n",
    "            except:\n",
    "                p_dict[point] = 1\n",
    "    return p_dict\n",
    "    \n",
    "def count_points(points_list):\n",
    "    points_counts = dict(zip(points_list, [points_list.count(x) for x in points_list]))\n",
    "    return points_counts\n",
    "\n",
    "def get_overlap_spots(points_dict):\n",
    "    return [k for k, v in points_dict.items() if v > 1]\n",
    "\n",
    "def run_vent_counter(data, diag=False):\n",
    "    inp = get_pairs(data)\n",
    "    if diag:\n",
    "        valid_points = inp\n",
    "        \n",
    "    else:\n",
    "        valid_points = remove_diags(inp)\n",
    "    point_frq = get_all_points(valid_points)\n",
    "    return len(get_overlap_spots(point_frq))"
   ]
  },
  {
   "cell_type": "code",
   "execution_count": 45,
   "metadata": {},
   "outputs": [
    {
     "name": "stdout",
     "output_type": "stream",
     "text": [
      "CPU times: user 961 µs, sys: 262 µs, total: 1.22 ms\n",
      "Wall time: 1.11 ms\n"
     ]
    },
    {
     "data": {
      "text/plain": [
       "5"
      ]
     },
     "execution_count": 45,
     "metadata": {},
     "output_type": "execute_result"
    }
   ],
   "source": [
    "%%time\n",
    "run_vent_counter(test, False)"
   ]
  },
  {
   "cell_type": "code",
   "execution_count": 44,
   "metadata": {},
   "outputs": [
    {
     "name": "stdout",
     "output_type": "stream",
     "text": [
      "CPU times: user 127 ms, sys: 34.3 ms, total: 162 ms\n",
      "Wall time: 258 ms\n"
     ]
    },
    {
     "data": {
      "text/plain": [
       "5280"
      ]
     },
     "execution_count": 44,
     "metadata": {},
     "output_type": "execute_result"
    }
   ],
   "source": [
    "%%time\n",
    "run_vent_counter(data, False)"
   ]
  },
  {
   "cell_type": "code",
   "execution_count": 42,
   "metadata": {},
   "outputs": [
    {
     "name": "stdout",
     "output_type": "stream",
     "text": [
      "CPU times: user 730 µs, sys: 193 µs, total: 923 µs\n",
      "Wall time: 789 µs\n"
     ]
    },
    {
     "data": {
      "text/plain": [
       "12"
      ]
     },
     "execution_count": 42,
     "metadata": {},
     "output_type": "execute_result"
    }
   ],
   "source": [
    "%%time\n",
    "run_vent_counter(test, True)"
   ]
  },
  {
   "cell_type": "code",
   "execution_count": 43,
   "metadata": {},
   "outputs": [
    {
     "name": "stdout",
     "output_type": "stream",
     "text": [
      "CPU times: user 161 ms, sys: 9.78 ms, total: 170 ms\n",
      "Wall time: 176 ms\n"
     ]
    },
    {
     "data": {
      "text/plain": [
       "16716"
      ]
     },
     "execution_count": 43,
     "metadata": {},
     "output_type": "execute_result"
    }
   ],
   "source": [
    "%%time\n",
    "run_vent_counter(data, True)"
   ]
  },
  {
   "cell_type": "code",
   "execution_count": null,
   "metadata": {},
   "outputs": [],
   "source": []
  }
 ],
 "metadata": {
  "kernelspec": {
   "display_name": "Python 3",
   "language": "python",
   "name": "python3"
  },
  "language_info": {
   "codemirror_mode": {
    "name": "ipython",
    "version": 3
   },
   "file_extension": ".py",
   "mimetype": "text/x-python",
   "name": "python",
   "nbconvert_exporter": "python",
   "pygments_lexer": "ipython3",
   "version": "3.8.3"
  }
 },
 "nbformat": 4,
 "nbformat_minor": 4
}
